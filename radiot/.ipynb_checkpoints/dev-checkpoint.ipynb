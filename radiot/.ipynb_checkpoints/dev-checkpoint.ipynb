{
 "cells": [
  {
   "cell_type": "markdown",
   "id": "48a48fff-2c90-4a21-929b-4c10a41ab88c",
   "metadata": {},
   "source": [
    "# DecayChain"
   ]
  },
  {
   "cell_type": "code",
   "execution_count": 170,
   "id": "dff26f33-f2d9-4a02-919a-14c8cbb66837",
   "metadata": {},
   "outputs": [
    {
     "ename": "ImportError",
     "evalue": "cannot import name 'data' from 'pyne' (/Users/joanalnu/opt/anaconda3/envs/nuclear/lib/python3.12/site-packages/pyne.py)",
     "output_type": "error",
     "traceback": [
      "\u001b[0;31m---------------------------------------------------------------------------\u001b[0m",
      "\u001b[0;31mImportError\u001b[0m                               Traceback (most recent call last)",
      "Cell \u001b[0;32mIn[170], line 7\u001b[0m\n\u001b[1;32m      5\u001b[0m \u001b[38;5;28;01mfrom\u001b[39;00m\u001b[38;5;250m \u001b[39m\u001b[38;5;21;01mlibrary\u001b[39;00m\u001b[38;5;250m \u001b[39m\u001b[38;5;28;01mimport\u001b[39;00m lib\n\u001b[1;32m      6\u001b[0m \u001b[38;5;28;01mimport\u001b[39;00m\u001b[38;5;250m \u001b[39m\u001b[38;5;21;01mmath\u001b[39;00m\n\u001b[0;32m----> 7\u001b[0m \u001b[38;5;28;01mfrom\u001b[39;00m\u001b[38;5;250m \u001b[39m\u001b[38;5;21;01mpyne\u001b[39;00m\u001b[38;5;250m \u001b[39m\u001b[38;5;28;01mimport\u001b[39;00m data \u001b[38;5;28;01mas\u001b[39;00m nd\n",
      "\u001b[0;31mImportError\u001b[0m: cannot import name 'data' from 'pyne' (/Users/joanalnu/opt/anaconda3/envs/nuclear/lib/python3.12/site-packages/pyne.py)"
     ]
    }
   ],
   "source": [
    "import matplotlib.pyplot as plt\n",
    "from graphviz import Digraph\n",
    "\n",
    "from symbols import atomic_symbols, atomic_numbers\n",
    "from library import lib\n",
    "import math\n",
    "from pyne import data as nd"
   ]
  },
  {
   "cell_type": "code",
   "execution_count": 159,
   "id": "1bedaf65-bb56-4779-80ac-7f4022fc2a71",
   "metadata": {},
   "outputs": [],
   "source": [
    "# the activity R at time t can be calculated using the equation: $R = R_0 ^{-\\lambda t}$\n",
    "# the number of radiactive nuclei remaining after time t is: $N = N_0 e^{-\\lambda t}$\n",
    "\n",
    "\n",
    "class DecayChain:\n",
    "    def __init__(self):\n",
    "        \"\"\"\n",
    "        Initialize the DecayChain class with nuclide data.\n",
    "\n",
    "        :param nuclide_data: List of tuples containing nuclide information.\n",
    "        \"\"\"\n",
    "        self.nuclide_data = lib  # Store the nuclide data\n",
    "        self.decay_chain = []  # To store the decay chain\n",
    "        self.final_amounts = {}  # To store final amounts of each nuclide\n",
    "\n",
    "    def get_nuclide_data(self, current_nuclide):\n",
    "        \"\"\"\n",
    "        Access the data for a specific nuclide based on mass number and atomic symbol.\n",
    "\n",
    "        :param starting_nuclide: a tuple consisting of (mass_number, atomic_symbol)\n",
    "        :return: the corresponding list or None if not found.\n",
    "        \"\"\"\n",
    "        mass_number, atomic_number = current_nuclide\n",
    "        for nuclide in self.nuclide_data:\n",
    "            try: \n",
    "                if int(nuclide[0])==atomic_number and int(nuclide[2])==mass_number:\n",
    "                    return nuclide\n",
    "            except Exception as e:\n",
    "                pass\n",
    "\n",
    "        raise ValueError(f\"Nuclide not found; input: {current_nuclide}\")\n",
    "\n",
    "    def atomicsymbol_2_atomicnumber(self, atomic_symbol):\n",
    "        \"\"\"\n",
    "        :param atomic_symbol: string containing atomic symbol\n",
    "        :return: atomic_number: integer representing the atomic number of the given symbol\n",
    "        \"\"\"\n",
    "        return atomic_numbers[atomic_symbol]\n",
    "\n",
    "    def atomicnumber_2_atomicsymbol(self, atomic_number):\n",
    "        \"\"\"\n",
    "        :param atomic_number: integer representing the atomic number\n",
    "        :return: atmoic_symbol: string representing the atomic symbol of the given number\n",
    "        \"\"\"\n",
    "        return atomic_symbols[atomic_number]\n",
    "\n",
    "    def find_decay_chain(self, starting_nuclide):\n",
    "        \"\"\"\n",
    "        Find the decay chain starting from a given nuclide.\n",
    "\n",
    "        :param starting_nuclide: A tuple containing: (mass_number, atomic_number) or (mass_number, atomic_symbol)\n",
    "        :return: A list representing the decay chain.\n",
    "        \"\"\"\n",
    "        # Check if the second element is an integer (atomic number) or convert from atomic symbol\n",
    "        if isinstance(starting_nuclide[1], int):\n",
    "            current_nuclide = (int(starting_nuclide[0]), starting_nuclide[1])\n",
    "        else:\n",
    "            current_nuclide = (int(starting_nuclide[0]), self.atomicsymbol_2_atomicnumber(starting_nuclide[1]))\n",
    "\n",
    "        dc = [current_nuclide]\n",
    "\n",
    "        while True:\n",
    "            nuclide_data = self.get_nuclide_data(current_nuclide)\n",
    "\n",
    "            # Check for decay modes\n",
    "            print(nuclide_data[6])\n",
    "            if 'a' in nuclide_data[6]:\n",
    "                current_nuclide = (current_nuclide[0] - 4, current_nuclide[1] - 2)  # Alpha decay\n",
    "                dc.append(('a', current_nuclide))\n",
    "            elif 'b' in nuclide_data[6]:\n",
    "                current_nuclide = (current_nuclide[0], current_nuclide[1] + 1)  # Beta decay\n",
    "                dc.append(('b', current_nuclide))\n",
    "            elif ('g' in nuclide_data[6] and 'a' not in nuclide_data[6]) or ('g' in nuclide_data[6] and 'b' not in nuclide_data[6]):\n",
    "                dc.append(('g', 'g'))\n",
    "                break\n",
    "            else:\n",
    "                break\n",
    "\n",
    "        self.decay_chain = dc\n",
    "        return dc  # Return the decay chain for further use\n",
    "\n",
    "    def chain_chart(self):\n",
    "        \"\"\"\n",
    "        Make a flow chart of the decay chain starting from a given nuclide,\n",
    "        or using an already created chain list (outputted by find_decay_chain).\n",
    "\n",
    "        :return: Show and save figure (PNG).\n",
    "        \"\"\"\n",
    "        cmap = {\n",
    "            'a': 'yellow',\n",
    "            'b': 'blue'\n",
    "        }\n",
    "\n",
    "        if not self.decay_chain:\n",
    "            raise ValueError(\"You must first run the find_decay_chain function to create a decay chain.\")\n",
    "\n",
    "        dc = self.decay_chain\n",
    "\n",
    "        # Create directed graph\n",
    "        dot = Digraph(f'{dc[0]}_decay_chain', format='png')\n",
    "        dot.attr(rankdir='TB', size='12', dpi='600')\n",
    "        dot.attr('node', shape='box', style='rounded, filled', color='lightblue', fontname='Arial', fontsize='12')\n",
    "\n",
    "        for i in range(len(dc)):\n",
    "            if isinstance(dc[i], tuple):\n",
    "                if isinstance(dc[i][1], str):\n",
    "                    print(f'Final gamma: {dc[i]}')\n",
    "                    dot.node(f'gamma_{i}', 'Gamma Radiation', color='lightgrey')\n",
    "\n",
    "                    if len(dc)==2:\n",
    "                        prev_mass_number = dc[i-1][0]\n",
    "                        prev_atomic_number = dc[i-1][1]\n",
    "                        prev_id = f'{prev_mass_number}_{prev_atomic_number}'\n",
    "                        dot.edge(prev_id, f'gamma_{i}', label='g')\n",
    "                    else:\n",
    "                        prev_mass_number = dc[i - 1][1][0]\n",
    "                        prev_atomic_number = dc[i - 1][1][1]\n",
    "                        prev_id = f'{prev_mass_number}_{prev_atomic_number}'\n",
    "                        dot.edge(prev_id, f'gamma_{i}', label='g')\n",
    "                        \n",
    "                elif isinstance(dc[i][0], str):\n",
    "                    print(f'Intermediate: {dc[i]}')\n",
    "                    radiation = dc[i][0]\n",
    "                    mass_number, atomic_number = dc[i][1]\n",
    "                    node_id = f'{mass_number}_{atomic_number}'\n",
    "                    dot.node(node_id, f\"{self.atomicnumber_2_atomicsymbol(atomic_number)}-{mass_number}\", color=cmap[radiation])\n",
    "\n",
    "                    prev_mass_number, prev_atomic_number = dc[i - 1][1]\n",
    "                    prev_id = f'{prev_mass_number}_{prev_atomic_number}'\n",
    "                    dot.edge(prev_id, node_id, label=radiation)\n",
    "                    \n",
    "                \n",
    "                    \n",
    "                else: # initial nuclide\n",
    "                    print(f'Initial: {dc[i]}')\n",
    "                    mass_number, atomic_number = dc[i]\n",
    "                    node_id = f'{mass_number}_{atomic_number}'\n",
    "                    dot.node(node_id, f\"{self.atomicnumber_2_atomicsymbol(atomic_number)}-{mass_number}\")\n",
    "                \n",
    "\n",
    "        # Add a legend\n",
    "        with dot.subgraph(name='legend') as legend:\n",
    "            legend.attr(label='Legend', color='black', style='dashed')\n",
    "            legend.node('a', 'Alpha Decay', color=cmap['a'])\n",
    "            legend.node('b', 'Beta Decay', color=cmap['b'])\n",
    "\n",
    "        # Save diagram\n",
    "        dot.render(f\"../{dc[0]}_decay_chain\", cleanup=True)\n",
    "\n",
    "        # Show diagram\n",
    "        dot.view()  # This will open the generated PNG file\n",
    "\n",
    "\n",
    "    def simulate_decay(self, initial_amount, time_period=None):\n",
    "        \"\"\"\n",
    "        Calculate the percentages of each transited element left in the sample after decay.\n",
    "\n",
    "        :param initial_amount: The initial amount of the starting nuclide.\n",
    "        :param time_period: The total time over which to simulate decay.\n",
    "                            If not provided, it defaults to the sum of half-times of the decay chain.\n",
    "        :return: A dictionary with percentages of each element remaining.\n",
    "        \"\"\"\n",
    "        if time_period is None:\n",
    "            try:\n",
    "                time_period = self.compute_decay_time()  # Use computed decay time if not provided\n",
    "            except Exception as e:\n",
    "                raise ValueError(\"Provide a time_period or run the compute_decay_time function first.\")\n",
    "\n",
    "        remaining_amounts = {}\n",
    "\n",
    "        for item in self.decay_chain:\n",
    "            if isinstance(item, tuple):\n",
    "                if isinstance(item[1], str):\n",
    "                    pass\n",
    "                elif isinstance(item[0], str):\n",
    "                    decay_mode, (mass_number, atomic_number) = item\n",
    "                    atomic_symbol = self.atomicnumber_2_atomicsymbol(atomic_number)\n",
    "                    nuclide_name = f'{atomic_symbol}-{mass_number}'\n",
    "                else: # intial nuclide\n",
    "                    mass_number, atomic_number = item\n",
    "                    atomic_symbol = self.atomicnumber_2_atomicsymbol(atomic_number)\n",
    "                    nuclide_name = f'{atomic_symbol}-{mass_number}'\n",
    "\n",
    "                try:\n",
    "                    decay_constant = nd.decay_const(nuclide_name)\n",
    "\n",
    "                    # Calculate remaining amount using exponential decay formula\n",
    "                    remaining_amount = initial_amount * math.exp(-decay_constant * time_period)\n",
    "\n",
    "                    # Store result as a percentage of the initial amount\n",
    "                    remaining_percent = (remaining_amount / initial_amount) * 100\n",
    "                    remaining_amounts[nuclide_name] = remaining_percent\n",
    "\n",
    "                    # Update initial_amount for subsequent nuclides in chain\n",
    "                    initial_amount = remaining_amount  # Update for next nuclide's calculation\n",
    "\n",
    "                except KeyError as e:\n",
    "                    print(f\"Decay constant not found for {nuclide_name}: {e}\")\n",
    "                except Exception as e:\n",
    "                    print(f\"Error simulating decay for {nuclide_name}: {e}\")\n",
    "\n",
    "        return remaining_amounts\n",
    "\n",
    "    def plot_decay_results(self, remaining_amounts):\n",
    "        \"\"\"\n",
    "        Plot a pie chart showing the percentages of each transited element remaining after decay.\n",
    "\n",
    "        :param remaining_amounts: the output of the simulate_decay function\n",
    "        \"\"\"\n",
    "        nuclide_names = remaining_amounts.keys()\n",
    "        percentages = remaining_amounts.values()\n",
    "\n",
    "        plt.figure(figsize=(10, 7))\n",
    "        plt.pie(percentages, labels=nuclide_names)\n",
    "\n",
    "        plt.show()\n",
    "        plt.savefig(\"../remaining_amounts_distribution.png\", dpi=600)\n",
    "\n",
    "\n",
    "\n",
    "# Example usage:\n",
    "# Assuming you have loaded your nuclide data into a variable called `nuclide_data`\n",
    "# decay_chain = DecayChain(nuclide_data)\n",
    "# decay_chain.find_decay_chain('Starting_Nuclide_Symbol')\n",
    "# decay_chain.simulate_decay(initial_amount=1000, time_period=5000)\n",
    "# decay_chain.plot_decay_results()\n"
   ]
  },
  {
   "cell_type": "code",
   "execution_count": 165,
   "id": "28125e5c-d3e9-4af8-bcd8-c109ba2d78ac",
   "metadata": {},
   "outputs": [],
   "source": [
    "decay_chain = DecayChain()"
   ]
  },
  {
   "cell_type": "code",
   "execution_count": 166,
   "id": "30ccf3d5-0c95-430c-854d-7cacfba96cd0",
   "metadata": {},
   "outputs": [
    {
     "data": {
      "text/plain": [
       "('92', 'U', '238', '238.050788220', '0.99274210', '238.028913', 'g,m,c')"
      ]
     },
     "execution_count": 166,
     "metadata": {},
     "output_type": "execute_result"
    }
   ],
   "source": [
    "decay_chain.get_nuclide_data((238, 92))"
   ]
  },
  {
   "cell_type": "code",
   "execution_count": 167,
   "id": "15918141-218e-4654-8a0c-2d1985a6d1d7",
   "metadata": {},
   "outputs": [
    {
     "name": "stdout",
     "output_type": "stream",
     "text": [
      "g,m,c\n"
     ]
    },
    {
     "data": {
      "text/plain": [
       "[(238, 92), ('g', 'g')]"
      ]
     },
     "execution_count": 167,
     "metadata": {},
     "output_type": "execute_result"
    }
   ],
   "source": [
    "decay_chain.find_decay_chain((238, 92))"
   ]
  },
  {
   "cell_type": "code",
   "execution_count": 168,
   "id": "a2bd982a-f339-4cf8-a489-f9b4a86b4382",
   "metadata": {},
   "outputs": [
    {
     "name": "stdout",
     "output_type": "stream",
     "text": [
      "Initial: (238, 92)\n",
      "Final gamma: ('g', 'g')\n"
     ]
    },
    {
     "ename": "ExecutableNotFound",
     "evalue": "failed to execute PosixPath('dot'), make sure the Graphviz executables are on your systems' PATH",
     "output_type": "error",
     "traceback": [
      "\u001b[0;31m---------------------------------------------------------------------------\u001b[0m",
      "\u001b[0;31mFileNotFoundError\u001b[0m                         Traceback (most recent call last)",
      "File \u001b[0;32m~/opt/anaconda3/envs/nuclear/lib/python3.12/site-packages/graphviz/backend/execute.py:78\u001b[0m, in \u001b[0;36mrun_check\u001b[0;34m(cmd, input_lines, encoding, quiet, **kwargs)\u001b[0m\n\u001b[1;32m     77\u001b[0m     \u001b[38;5;28;01melse\u001b[39;00m:\n\u001b[0;32m---> 78\u001b[0m         proc \u001b[38;5;241m=\u001b[39m \u001b[43msubprocess\u001b[49m\u001b[38;5;241;43m.\u001b[39;49m\u001b[43mrun\u001b[49m\u001b[43m(\u001b[49m\u001b[43mcmd\u001b[49m\u001b[43m,\u001b[49m\u001b[43m \u001b[49m\u001b[38;5;241;43m*\u001b[39;49m\u001b[38;5;241;43m*\u001b[39;49m\u001b[43mkwargs\u001b[49m\u001b[43m)\u001b[49m\n\u001b[1;32m     79\u001b[0m \u001b[38;5;28;01mexcept\u001b[39;00m \u001b[38;5;167;01mOSError\u001b[39;00m \u001b[38;5;28;01mas\u001b[39;00m e:\n",
      "File \u001b[0;32m~/opt/anaconda3/envs/nuclear/lib/python3.12/subprocess.py:550\u001b[0m, in \u001b[0;36mrun\u001b[0;34m(input, capture_output, timeout, check, *popenargs, **kwargs)\u001b[0m\n\u001b[1;32m    548\u001b[0m     kwargs[\u001b[38;5;124m'\u001b[39m\u001b[38;5;124mstderr\u001b[39m\u001b[38;5;124m'\u001b[39m] \u001b[38;5;241m=\u001b[39m PIPE\n\u001b[0;32m--> 550\u001b[0m \u001b[38;5;28;01mwith\u001b[39;00m \u001b[43mPopen\u001b[49m\u001b[43m(\u001b[49m\u001b[38;5;241;43m*\u001b[39;49m\u001b[43mpopenargs\u001b[49m\u001b[43m,\u001b[49m\u001b[43m \u001b[49m\u001b[38;5;241;43m*\u001b[39;49m\u001b[38;5;241;43m*\u001b[39;49m\u001b[43mkwargs\u001b[49m\u001b[43m)\u001b[49m \u001b[38;5;28;01mas\u001b[39;00m process:\n\u001b[1;32m    551\u001b[0m     \u001b[38;5;28;01mtry\u001b[39;00m:\n",
      "File \u001b[0;32m~/opt/anaconda3/envs/nuclear/lib/python3.12/subprocess.py:1028\u001b[0m, in \u001b[0;36mPopen.__init__\u001b[0;34m(self, args, bufsize, executable, stdin, stdout, stderr, preexec_fn, close_fds, shell, cwd, env, universal_newlines, startupinfo, creationflags, restore_signals, start_new_session, pass_fds, user, group, extra_groups, encoding, errors, text, umask, pipesize, process_group)\u001b[0m\n\u001b[1;32m   1025\u001b[0m             \u001b[38;5;28mself\u001b[39m\u001b[38;5;241m.\u001b[39mstderr \u001b[38;5;241m=\u001b[39m io\u001b[38;5;241m.\u001b[39mTextIOWrapper(\u001b[38;5;28mself\u001b[39m\u001b[38;5;241m.\u001b[39mstderr,\n\u001b[1;32m   1026\u001b[0m                     encoding\u001b[38;5;241m=\u001b[39mencoding, errors\u001b[38;5;241m=\u001b[39merrors)\n\u001b[0;32m-> 1028\u001b[0m     \u001b[38;5;28;43mself\u001b[39;49m\u001b[38;5;241;43m.\u001b[39;49m\u001b[43m_execute_child\u001b[49m\u001b[43m(\u001b[49m\u001b[43margs\u001b[49m\u001b[43m,\u001b[49m\u001b[43m \u001b[49m\u001b[43mexecutable\u001b[49m\u001b[43m,\u001b[49m\u001b[43m \u001b[49m\u001b[43mpreexec_fn\u001b[49m\u001b[43m,\u001b[49m\u001b[43m \u001b[49m\u001b[43mclose_fds\u001b[49m\u001b[43m,\u001b[49m\n\u001b[1;32m   1029\u001b[0m \u001b[43m                        \u001b[49m\u001b[43mpass_fds\u001b[49m\u001b[43m,\u001b[49m\u001b[43m \u001b[49m\u001b[43mcwd\u001b[49m\u001b[43m,\u001b[49m\u001b[43m \u001b[49m\u001b[43menv\u001b[49m\u001b[43m,\u001b[49m\n\u001b[1;32m   1030\u001b[0m \u001b[43m                        \u001b[49m\u001b[43mstartupinfo\u001b[49m\u001b[43m,\u001b[49m\u001b[43m \u001b[49m\u001b[43mcreationflags\u001b[49m\u001b[43m,\u001b[49m\u001b[43m \u001b[49m\u001b[43mshell\u001b[49m\u001b[43m,\u001b[49m\n\u001b[1;32m   1031\u001b[0m \u001b[43m                        \u001b[49m\u001b[43mp2cread\u001b[49m\u001b[43m,\u001b[49m\u001b[43m \u001b[49m\u001b[43mp2cwrite\u001b[49m\u001b[43m,\u001b[49m\n\u001b[1;32m   1032\u001b[0m \u001b[43m                        \u001b[49m\u001b[43mc2pread\u001b[49m\u001b[43m,\u001b[49m\u001b[43m \u001b[49m\u001b[43mc2pwrite\u001b[49m\u001b[43m,\u001b[49m\n\u001b[1;32m   1033\u001b[0m \u001b[43m                        \u001b[49m\u001b[43merrread\u001b[49m\u001b[43m,\u001b[49m\u001b[43m \u001b[49m\u001b[43merrwrite\u001b[49m\u001b[43m,\u001b[49m\n\u001b[1;32m   1034\u001b[0m \u001b[43m                        \u001b[49m\u001b[43mrestore_signals\u001b[49m\u001b[43m,\u001b[49m\n\u001b[1;32m   1035\u001b[0m \u001b[43m                        \u001b[49m\u001b[43mgid\u001b[49m\u001b[43m,\u001b[49m\u001b[43m \u001b[49m\u001b[43mgids\u001b[49m\u001b[43m,\u001b[49m\u001b[43m \u001b[49m\u001b[43muid\u001b[49m\u001b[43m,\u001b[49m\u001b[43m \u001b[49m\u001b[43mumask\u001b[49m\u001b[43m,\u001b[49m\n\u001b[1;32m   1036\u001b[0m \u001b[43m                        \u001b[49m\u001b[43mstart_new_session\u001b[49m\u001b[43m,\u001b[49m\u001b[43m \u001b[49m\u001b[43mprocess_group\u001b[49m\u001b[43m)\u001b[49m\n\u001b[1;32m   1037\u001b[0m \u001b[38;5;28;01mexcept\u001b[39;00m:\n\u001b[1;32m   1038\u001b[0m     \u001b[38;5;66;03m# Cleanup if the child failed starting.\u001b[39;00m\n",
      "File \u001b[0;32m~/opt/anaconda3/envs/nuclear/lib/python3.12/subprocess.py:1963\u001b[0m, in \u001b[0;36mPopen._execute_child\u001b[0;34m(self, args, executable, preexec_fn, close_fds, pass_fds, cwd, env, startupinfo, creationflags, shell, p2cread, p2cwrite, c2pread, c2pwrite, errread, errwrite, restore_signals, gid, gids, uid, umask, start_new_session, process_group)\u001b[0m\n\u001b[1;32m   1962\u001b[0m \u001b[38;5;28;01mif\u001b[39;00m err_filename \u001b[38;5;129;01mis\u001b[39;00m \u001b[38;5;129;01mnot\u001b[39;00m \u001b[38;5;28;01mNone\u001b[39;00m:\n\u001b[0;32m-> 1963\u001b[0m     \u001b[38;5;28;01mraise\u001b[39;00m child_exception_type(errno_num, err_msg, err_filename)\n\u001b[1;32m   1964\u001b[0m \u001b[38;5;28;01melse\u001b[39;00m:\n",
      "\u001b[0;31mFileNotFoundError\u001b[0m: [Errno 2] No such file or directory: PosixPath('dot')",
      "\nThe above exception was the direct cause of the following exception:\n",
      "\u001b[0;31mExecutableNotFound\u001b[0m                        Traceback (most recent call last)",
      "Cell \u001b[0;32mIn[168], line 1\u001b[0m\n\u001b[0;32m----> 1\u001b[0m \u001b[43mdecay_chain\u001b[49m\u001b[38;5;241;43m.\u001b[39;49m\u001b[43mchain_chart\u001b[49m\u001b[43m(\u001b[49m\u001b[43m)\u001b[49m\n",
      "Cell \u001b[0;32mIn[159], line 148\u001b[0m, in \u001b[0;36mDecayChain.chain_chart\u001b[0;34m(self)\u001b[0m\n\u001b[1;32m    145\u001b[0m     legend\u001b[38;5;241m.\u001b[39mnode(\u001b[38;5;124m'\u001b[39m\u001b[38;5;124mb\u001b[39m\u001b[38;5;124m'\u001b[39m, \u001b[38;5;124m'\u001b[39m\u001b[38;5;124mBeta Decay\u001b[39m\u001b[38;5;124m'\u001b[39m, color\u001b[38;5;241m=\u001b[39mcmap[\u001b[38;5;124m'\u001b[39m\u001b[38;5;124mb\u001b[39m\u001b[38;5;124m'\u001b[39m])\n\u001b[1;32m    147\u001b[0m \u001b[38;5;66;03m# Save diagram\u001b[39;00m\n\u001b[0;32m--> 148\u001b[0m \u001b[43mdot\u001b[49m\u001b[38;5;241;43m.\u001b[39;49m\u001b[43mrender\u001b[49m\u001b[43m(\u001b[49m\u001b[38;5;124;43mf\u001b[39;49m\u001b[38;5;124;43m\"\u001b[39;49m\u001b[38;5;124;43m../\u001b[39;49m\u001b[38;5;132;43;01m{\u001b[39;49;00m\u001b[43mdc\u001b[49m\u001b[43m[\u001b[49m\u001b[38;5;241;43m0\u001b[39;49m\u001b[43m]\u001b[49m\u001b[38;5;132;43;01m}\u001b[39;49;00m\u001b[38;5;124;43m_decay_chain\u001b[39;49m\u001b[38;5;124;43m\"\u001b[39;49m\u001b[43m,\u001b[49m\u001b[43m \u001b[49m\u001b[43mcleanup\u001b[49m\u001b[38;5;241;43m=\u001b[39;49m\u001b[38;5;28;43;01mTrue\u001b[39;49;00m\u001b[43m)\u001b[49m\n\u001b[1;32m    150\u001b[0m \u001b[38;5;66;03m# Show diagram\u001b[39;00m\n\u001b[1;32m    151\u001b[0m dot\u001b[38;5;241m.\u001b[39mview()\n",
      "File \u001b[0;32m~/opt/anaconda3/envs/nuclear/lib/python3.12/site-packages/graphviz/_tools.py:171\u001b[0m, in \u001b[0;36mdeprecate_positional_args.<locals>.decorator.<locals>.wrapper\u001b[0;34m(*args, **kwargs)\u001b[0m\n\u001b[1;32m    162\u001b[0m     wanted \u001b[38;5;241m=\u001b[39m \u001b[38;5;124m'\u001b[39m\u001b[38;5;124m, \u001b[39m\u001b[38;5;124m'\u001b[39m\u001b[38;5;241m.\u001b[39mjoin(\u001b[38;5;124mf\u001b[39m\u001b[38;5;124m'\u001b[39m\u001b[38;5;132;01m{\u001b[39;00mname\u001b[38;5;132;01m}\u001b[39;00m\u001b[38;5;124m=\u001b[39m\u001b[38;5;132;01m{\u001b[39;00mvalue\u001b[38;5;132;01m!r}\u001b[39;00m\u001b[38;5;124m'\u001b[39m\n\u001b[1;32m    163\u001b[0m                        \u001b[38;5;28;01mfor\u001b[39;00m name, value \u001b[38;5;129;01min\u001b[39;00m deprecated\u001b[38;5;241m.\u001b[39mitems())\n\u001b[1;32m    164\u001b[0m     warnings\u001b[38;5;241m.\u001b[39mwarn(\u001b[38;5;124mf\u001b[39m\u001b[38;5;124m'\u001b[39m\u001b[38;5;124mThe signature of \u001b[39m\u001b[38;5;132;01m{\u001b[39;00mfunc\u001b[38;5;241m.\u001b[39m\u001b[38;5;18m__name__\u001b[39m\u001b[38;5;132;01m}\u001b[39;00m\u001b[38;5;124m will be reduced\u001b[39m\u001b[38;5;124m'\u001b[39m\n\u001b[1;32m    165\u001b[0m                   \u001b[38;5;124mf\u001b[39m\u001b[38;5;124m'\u001b[39m\u001b[38;5;124m to \u001b[39m\u001b[38;5;132;01m{\u001b[39;00msupported_number\u001b[38;5;132;01m}\u001b[39;00m\u001b[38;5;124m positional args\u001b[39m\u001b[38;5;124m'\u001b[39m\n\u001b[1;32m    166\u001b[0m                   \u001b[38;5;124mf\u001b[39m\u001b[38;5;124m'\u001b[39m\u001b[38;5;124m \u001b[39m\u001b[38;5;132;01m{\u001b[39;00m\u001b[38;5;28mlist\u001b[39m(supported)\u001b[38;5;132;01m}\u001b[39;00m\u001b[38;5;124m: pass \u001b[39m\u001b[38;5;132;01m{\u001b[39;00mwanted\u001b[38;5;132;01m}\u001b[39;00m\u001b[38;5;124m'\u001b[39m\n\u001b[1;32m    167\u001b[0m                   \u001b[38;5;124m'\u001b[39m\u001b[38;5;124m as keyword arg(s)\u001b[39m\u001b[38;5;124m'\u001b[39m,\n\u001b[1;32m    168\u001b[0m                   stacklevel\u001b[38;5;241m=\u001b[39mstacklevel,\n\u001b[1;32m    169\u001b[0m                   category\u001b[38;5;241m=\u001b[39mcategory)\n\u001b[0;32m--> 171\u001b[0m \u001b[38;5;28;01mreturn\u001b[39;00m \u001b[43mfunc\u001b[49m\u001b[43m(\u001b[49m\u001b[38;5;241;43m*\u001b[39;49m\u001b[43margs\u001b[49m\u001b[43m,\u001b[49m\u001b[43m \u001b[49m\u001b[38;5;241;43m*\u001b[39;49m\u001b[38;5;241;43m*\u001b[39;49m\u001b[43mkwargs\u001b[49m\u001b[43m)\u001b[49m\n",
      "File \u001b[0;32m~/opt/anaconda3/envs/nuclear/lib/python3.12/site-packages/graphviz/rendering.py:122\u001b[0m, in \u001b[0;36mRender.render\u001b[0;34m(self, filename, directory, view, cleanup, format, renderer, formatter, neato_no_op, quiet, quiet_view, outfile, engine, raise_if_result_exists, overwrite_source)\u001b[0m\n\u001b[1;32m    118\u001b[0m filepath \u001b[38;5;241m=\u001b[39m \u001b[38;5;28mself\u001b[39m\u001b[38;5;241m.\u001b[39msave(filename, directory\u001b[38;5;241m=\u001b[39mdirectory, skip_existing\u001b[38;5;241m=\u001b[39m\u001b[38;5;28;01mNone\u001b[39;00m)\n\u001b[1;32m    120\u001b[0m args\u001b[38;5;241m.\u001b[39mappend(filepath)\n\u001b[0;32m--> 122\u001b[0m rendered \u001b[38;5;241m=\u001b[39m \u001b[38;5;28;43mself\u001b[39;49m\u001b[38;5;241;43m.\u001b[39;49m\u001b[43m_render\u001b[49m\u001b[43m(\u001b[49m\u001b[38;5;241;43m*\u001b[39;49m\u001b[43margs\u001b[49m\u001b[43m,\u001b[49m\u001b[43m \u001b[49m\u001b[38;5;241;43m*\u001b[39;49m\u001b[38;5;241;43m*\u001b[39;49m\u001b[43mkwargs\u001b[49m\u001b[43m)\u001b[49m\n\u001b[1;32m    124\u001b[0m \u001b[38;5;28;01mif\u001b[39;00m cleanup:\n\u001b[1;32m    125\u001b[0m     log\u001b[38;5;241m.\u001b[39mdebug(\u001b[38;5;124m'\u001b[39m\u001b[38;5;124mdelete \u001b[39m\u001b[38;5;132;01m%r\u001b[39;00m\u001b[38;5;124m'\u001b[39m, filepath)\n",
      "File \u001b[0;32m~/opt/anaconda3/envs/nuclear/lib/python3.12/site-packages/graphviz/_tools.py:171\u001b[0m, in \u001b[0;36mdeprecate_positional_args.<locals>.decorator.<locals>.wrapper\u001b[0;34m(*args, **kwargs)\u001b[0m\n\u001b[1;32m    162\u001b[0m     wanted \u001b[38;5;241m=\u001b[39m \u001b[38;5;124m'\u001b[39m\u001b[38;5;124m, \u001b[39m\u001b[38;5;124m'\u001b[39m\u001b[38;5;241m.\u001b[39mjoin(\u001b[38;5;124mf\u001b[39m\u001b[38;5;124m'\u001b[39m\u001b[38;5;132;01m{\u001b[39;00mname\u001b[38;5;132;01m}\u001b[39;00m\u001b[38;5;124m=\u001b[39m\u001b[38;5;132;01m{\u001b[39;00mvalue\u001b[38;5;132;01m!r}\u001b[39;00m\u001b[38;5;124m'\u001b[39m\n\u001b[1;32m    163\u001b[0m                        \u001b[38;5;28;01mfor\u001b[39;00m name, value \u001b[38;5;129;01min\u001b[39;00m deprecated\u001b[38;5;241m.\u001b[39mitems())\n\u001b[1;32m    164\u001b[0m     warnings\u001b[38;5;241m.\u001b[39mwarn(\u001b[38;5;124mf\u001b[39m\u001b[38;5;124m'\u001b[39m\u001b[38;5;124mThe signature of \u001b[39m\u001b[38;5;132;01m{\u001b[39;00mfunc\u001b[38;5;241m.\u001b[39m\u001b[38;5;18m__name__\u001b[39m\u001b[38;5;132;01m}\u001b[39;00m\u001b[38;5;124m will be reduced\u001b[39m\u001b[38;5;124m'\u001b[39m\n\u001b[1;32m    165\u001b[0m                   \u001b[38;5;124mf\u001b[39m\u001b[38;5;124m'\u001b[39m\u001b[38;5;124m to \u001b[39m\u001b[38;5;132;01m{\u001b[39;00msupported_number\u001b[38;5;132;01m}\u001b[39;00m\u001b[38;5;124m positional args\u001b[39m\u001b[38;5;124m'\u001b[39m\n\u001b[1;32m    166\u001b[0m                   \u001b[38;5;124mf\u001b[39m\u001b[38;5;124m'\u001b[39m\u001b[38;5;124m \u001b[39m\u001b[38;5;132;01m{\u001b[39;00m\u001b[38;5;28mlist\u001b[39m(supported)\u001b[38;5;132;01m}\u001b[39;00m\u001b[38;5;124m: pass \u001b[39m\u001b[38;5;132;01m{\u001b[39;00mwanted\u001b[38;5;132;01m}\u001b[39;00m\u001b[38;5;124m'\u001b[39m\n\u001b[1;32m    167\u001b[0m                   \u001b[38;5;124m'\u001b[39m\u001b[38;5;124m as keyword arg(s)\u001b[39m\u001b[38;5;124m'\u001b[39m,\n\u001b[1;32m    168\u001b[0m                   stacklevel\u001b[38;5;241m=\u001b[39mstacklevel,\n\u001b[1;32m    169\u001b[0m                   category\u001b[38;5;241m=\u001b[39mcategory)\n\u001b[0;32m--> 171\u001b[0m \u001b[38;5;28;01mreturn\u001b[39;00m \u001b[43mfunc\u001b[49m\u001b[43m(\u001b[49m\u001b[38;5;241;43m*\u001b[39;49m\u001b[43margs\u001b[49m\u001b[43m,\u001b[49m\u001b[43m \u001b[49m\u001b[38;5;241;43m*\u001b[39;49m\u001b[38;5;241;43m*\u001b[39;49m\u001b[43mkwargs\u001b[49m\u001b[43m)\u001b[49m\n",
      "File \u001b[0;32m~/opt/anaconda3/envs/nuclear/lib/python3.12/site-packages/graphviz/backend/rendering.py:326\u001b[0m, in \u001b[0;36mrender\u001b[0;34m(engine, format, filepath, renderer, formatter, neato_no_op, quiet, outfile, raise_if_result_exists, overwrite_filepath)\u001b[0m\n\u001b[1;32m    322\u001b[0m cmd \u001b[38;5;241m+\u001b[39m\u001b[38;5;241m=\u001b[39m args\n\u001b[1;32m    324\u001b[0m \u001b[38;5;28;01massert\u001b[39;00m filepath \u001b[38;5;129;01mis\u001b[39;00m \u001b[38;5;129;01mnot\u001b[39;00m \u001b[38;5;28;01mNone\u001b[39;00m, \u001b[38;5;124m'\u001b[39m\u001b[38;5;124mwork around pytype false alarm\u001b[39m\u001b[38;5;124m'\u001b[39m\n\u001b[0;32m--> 326\u001b[0m \u001b[43mexecute\u001b[49m\u001b[38;5;241;43m.\u001b[39;49m\u001b[43mrun_check\u001b[49m\u001b[43m(\u001b[49m\u001b[43mcmd\u001b[49m\u001b[43m,\u001b[49m\n\u001b[1;32m    327\u001b[0m \u001b[43m                  \u001b[49m\u001b[43mcwd\u001b[49m\u001b[38;5;241;43m=\u001b[39;49m\u001b[43mfilepath\u001b[49m\u001b[38;5;241;43m.\u001b[39;49m\u001b[43mparent\u001b[49m\u001b[43m \u001b[49m\u001b[38;5;28;43;01mif\u001b[39;49;00m\u001b[43m \u001b[49m\u001b[43mfilepath\u001b[49m\u001b[38;5;241;43m.\u001b[39;49m\u001b[43mparent\u001b[49m\u001b[38;5;241;43m.\u001b[39;49m\u001b[43mparts\u001b[49m\u001b[43m \u001b[49m\u001b[38;5;28;43;01melse\u001b[39;49;00m\u001b[43m \u001b[49m\u001b[38;5;28;43;01mNone\u001b[39;49;00m\u001b[43m,\u001b[49m\n\u001b[1;32m    328\u001b[0m \u001b[43m                  \u001b[49m\u001b[43mquiet\u001b[49m\u001b[38;5;241;43m=\u001b[39;49m\u001b[43mquiet\u001b[49m\u001b[43m,\u001b[49m\n\u001b[1;32m    329\u001b[0m \u001b[43m                  \u001b[49m\u001b[43mcapture_output\u001b[49m\u001b[38;5;241;43m=\u001b[39;49m\u001b[38;5;28;43;01mTrue\u001b[39;49;00m\u001b[43m)\u001b[49m\n\u001b[1;32m    331\u001b[0m \u001b[38;5;28;01mreturn\u001b[39;00m os\u001b[38;5;241m.\u001b[39mfspath(outfile)\n",
      "File \u001b[0;32m~/opt/anaconda3/envs/nuclear/lib/python3.12/site-packages/graphviz/backend/execute.py:81\u001b[0m, in \u001b[0;36mrun_check\u001b[0;34m(cmd, input_lines, encoding, quiet, **kwargs)\u001b[0m\n\u001b[1;32m     79\u001b[0m \u001b[38;5;28;01mexcept\u001b[39;00m \u001b[38;5;167;01mOSError\u001b[39;00m \u001b[38;5;28;01mas\u001b[39;00m e:\n\u001b[1;32m     80\u001b[0m     \u001b[38;5;28;01mif\u001b[39;00m e\u001b[38;5;241m.\u001b[39merrno \u001b[38;5;241m==\u001b[39m errno\u001b[38;5;241m.\u001b[39mENOENT:\n\u001b[0;32m---> 81\u001b[0m         \u001b[38;5;28;01mraise\u001b[39;00m ExecutableNotFound(cmd) \u001b[38;5;28;01mfrom\u001b[39;00m\u001b[38;5;250m \u001b[39m\u001b[38;5;21;01me\u001b[39;00m\n\u001b[1;32m     82\u001b[0m     \u001b[38;5;28;01mraise\u001b[39;00m\n\u001b[1;32m     84\u001b[0m \u001b[38;5;28;01mif\u001b[39;00m \u001b[38;5;129;01mnot\u001b[39;00m quiet \u001b[38;5;129;01mand\u001b[39;00m proc\u001b[38;5;241m.\u001b[39mstderr:\n",
      "\u001b[0;31mExecutableNotFound\u001b[0m: failed to execute PosixPath('dot'), make sure the Graphviz executables are on your systems' PATH"
     ]
    }
   ],
   "source": [
    "decay_chain.chain_chart()"
   ]
  },
  {
   "cell_type": "code",
   "execution_count": 169,
   "id": "e4384037-fb6e-490e-b6ce-5b8228d1d756",
   "metadata": {},
   "outputs": [
    {
     "name": "stdout",
     "output_type": "stream",
     "text": [
      "Error simulating decay for U-238: name 'nd' is not defined\n",
      "Error simulating decay for U-238: name 'nd' is not defined\n"
     ]
    },
    {
     "data": {
      "text/plain": [
       "{}"
      ]
     },
     "execution_count": 169,
     "metadata": {},
     "output_type": "execute_result"
    }
   ],
   "source": [
    "decay_chain.simulate_decay(100, time_period=500)"
   ]
  },
  {
   "cell_type": "code",
   "execution_count": null,
   "id": "2d9d932d-c79a-4e78-bd1a-274270bcbed8",
   "metadata": {},
   "outputs": [],
   "source": []
  }
 ],
 "metadata": {
  "kernelspec": {
   "display_name": "Python 3 (ipykernel)",
   "language": "python",
   "name": "python3"
  },
  "language_info": {
   "codemirror_mode": {
    "name": "ipython",
    "version": 3
   },
   "file_extension": ".py",
   "mimetype": "text/x-python",
   "name": "python",
   "nbconvert_exporter": "python",
   "pygments_lexer": "ipython3",
   "version": "3.12.9"
  }
 },
 "nbformat": 4,
 "nbformat_minor": 5
}
