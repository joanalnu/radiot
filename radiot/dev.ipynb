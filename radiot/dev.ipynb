{
 "cells": [
  {
   "cell_type": "markdown",
   "id": "48a48fff-2c90-4a21-929b-4c10a41ab88c",
   "metadata": {},
   "source": [
    "# DecayChain"
   ]
  },
  {
   "cell_type": "code",
   "execution_count": 1,
   "id": "dff26f33-f2d9-4a02-919a-14c8cbb66837",
   "metadata": {},
   "outputs": [],
   "source": [
    "import matplotlib.pyplot as plt\n",
    "from graphviz import Digraph\n",
    "import math\n",
    "\n",
    "from data.symbols import atomic_symbols, atomic_numbers\n",
    "from data.library import lib\n",
    "from data.half_times import half_times"
   ]
  },
  {
   "cell_type": "code",
   "execution_count": 82,
   "id": "1bedaf65-bb56-4779-80ac-7f4022fc2a71",
   "metadata": {},
   "outputs": [],
   "source": [
    "# the activity R at time t can be calculated using the equation: $R = R_0 ^{-\\lambda t}$\n",
    "# the number of radiactive nuclei remaining after time t is: $N = N_0 e^{-\\lambda t}$\n",
    "\n",
    "\n",
    "class DecayChain:\n",
    "    def __init__(self):\n",
    "        \"\"\"\n",
    "        Initialize the DecayChain class with nuclide data.\n",
    "\n",
    "        :param nuclide_data: List of tuples containing nuclide information.\n",
    "        \"\"\"\n",
    "        self.nuclide_data = lib  # Store the nuclide data\n",
    "        self.decay_chain = []  # To store the decay chain\n",
    "        self.final_amounts = {}  # To store final amounts of each nuclide\n",
    "\n",
    "    def get_nuclide_data(self, current_nuclide):\n",
    "        \"\"\"\n",
    "        Access the data for a specific nuclide based on mass number and atomic symbol.\n",
    "\n",
    "        :param starting_nuclide: a tuple consisting of (mass_number, atomic_symbol)\n",
    "        :return: the corresponding list or None if not found.\n",
    "        \"\"\"\n",
    "        mass_number, atomic_number = current_nuclide\n",
    "        for nuclide in self.nuclide_data:\n",
    "            try: \n",
    "                if int(nuclide[0])==atomic_number and int(nuclide[2])==mass_number:\n",
    "                    return nuclide\n",
    "            except Exception as e:\n",
    "                pass\n",
    "\n",
    "        raise ValueError(f\"Nuclide not found; input: {current_nuclide}\")\n",
    "\n",
    "    def atomicsymbol_2_atomicnumber(self, atomic_symbol):\n",
    "        \"\"\"\n",
    "        :param atomic_symbol: string containing atomic symbol\n",
    "        :return: atomic_number: integer representing the atomic number of the given symbol\n",
    "        \"\"\"\n",
    "        return atomic_numbers[atomic_symbol]\n",
    "\n",
    "    def atomicnumber_2_atomicsymbol(self, atomic_number):\n",
    "        \"\"\"\n",
    "        :param atomic_number: integer representing the atomic number\n",
    "        :return: atmoic_symbol: string representing the atomic symbol of the given number\n",
    "        \"\"\"\n",
    "        return atomic_symbols[atomic_number]\n",
    "\n",
    "    def find_decay_chain(self, starting_nuclide):\n",
    "        \"\"\"\n",
    "        Find the decay chain starting from a given nuclide.\n",
    "\n",
    "        :param starting_nuclide: A tuple containing: (mass_number, atomic_number) or (mass_number, atomic_symbol)\n",
    "        :return: A list representing the decay chain.\n",
    "        \"\"\"\n",
    "        # Check if the second element is an integer (atomic number) or convert from atomic symbol\n",
    "        if isinstance(starting_nuclide[1], int):\n",
    "            current_nuclide = (int(starting_nuclide[0]), starting_nuclide[1])\n",
    "        else:\n",
    "            current_nuclide = (int(starting_nuclide[0]), self.atomicsymbol_2_atomicnumber(starting_nuclide[1]))\n",
    "\n",
    "        dc = [current_nuclide]\n",
    "\n",
    "        while True:\n",
    "            nuclide_data = self.get_nuclide_data(current_nuclide)\n",
    "\n",
    "            # Check for decay modes\n",
    "            print(nuclide_data[6])\n",
    "            if 'a' in nuclide_data[6]:\n",
    "                current_nuclide = (current_nuclide[0] - 4, current_nuclide[1] - 2)  # Alpha decay\n",
    "                dc.append(('a', current_nuclide))\n",
    "            elif 'b' in nuclide_data[6]:\n",
    "                current_nuclide = (current_nuclide[0], current_nuclide[1] + 1)  # Beta decay\n",
    "                dc.append(('b', current_nuclide))\n",
    "            elif ('g' in nuclide_data[6] and 'a' not in nuclide_data[6]) or ('g' in nuclide_data[6] and 'b' not in nuclide_data[6]):\n",
    "                dc.append(('g', 'g'))\n",
    "                break\n",
    "            else:\n",
    "                break\n",
    "\n",
    "        self.decay_chain = dc\n",
    "        return dc  # Return the decay chain for further use\n",
    "\n",
    "    def chain_chart(self):\n",
    "        \"\"\"\n",
    "        Make a flow chart of the decay chain starting from a given nuclide,\n",
    "        or using an already created chain list (outputted by find_decay_chain).\n",
    "\n",
    "        :return: Show and save figure (PNG).\n",
    "        \"\"\"\n",
    "        cmap = {\n",
    "            'a': 'yellow',\n",
    "            'b': 'blue'\n",
    "        }\n",
    "\n",
    "        if not self.decay_chain:\n",
    "            raise ValueError(\"You must first run the find_decay_chain function to create a decay chain.\")\n",
    "\n",
    "        dc = self.decay_chain\n",
    "\n",
    "        # Create directed graph\n",
    "        dot = Digraph(f'./charts/{dc[0]}_decay_chain', format='png')\n",
    "        dot.attr(rankdir='TB', size='12', dpi='600')\n",
    "        dot.attr('node', shape='box', style='rounded, filled', color='lightblue', fontname='Arial', fontsize='12')\n",
    "\n",
    "        for i in range(len(dc)):\n",
    "            if isinstance(dc[i], tuple):\n",
    "                if isinstance(dc[i][1], str):\n",
    "                    print(f'Final gamma: {dc[i]}')\n",
    "                    dot.node(f'gamma_{i}', 'Gamma Radiation', color='lightgrey')\n",
    "\n",
    "                    if len(dc)==2:\n",
    "                        prev_mass_number = dc[i-1][0]\n",
    "                        prev_atomic_number = dc[i-1][1]\n",
    "                        prev_id = f'{prev_mass_number}_{prev_atomic_number}'\n",
    "                        dot.edge(prev_id, f'gamma_{i}', label='g')\n",
    "                    else:\n",
    "                        prev_mass_number = dc[i - 1][1][0]\n",
    "                        prev_atomic_number = dc[i - 1][1][1]\n",
    "                        prev_id = f'{prev_mass_number}_{prev_atomic_number}'\n",
    "                        dot.edge(prev_id, f'gamma_{i}', label='g')\n",
    "                        \n",
    "                elif isinstance(dc[i][0], str):\n",
    "                    print(f'Intermediate: {dc[i]}')\n",
    "                    radiation = dc[i][0]\n",
    "                    mass_number, atomic_number = dc[i][1]\n",
    "                    node_id = f'{mass_number}_{atomic_number}'\n",
    "                    dot.node(node_id, f\"{self.atomicnumber_2_atomicsymbol(atomic_number)}-{mass_number}\", color=cmap[radiation])\n",
    "\n",
    "                    prev_mass_number, prev_atomic_number = dc[i - 1][1]\n",
    "                    prev_id = f'{prev_mass_number}_{prev_atomic_number}'\n",
    "                    dot.edge(prev_id, node_id, label=radiation)\n",
    "                    \n",
    "                \n",
    "                    \n",
    "                else: # initial nuclide\n",
    "                    print(f'Initial: {dc[i]}')\n",
    "                    mass_number, atomic_number = dc[i]\n",
    "                    node_id = f'{mass_number}_{atomic_number}'\n",
    "                    dot.node(node_id, f\"{self.atomicnumber_2_atomicsymbol(atomic_number)}-{mass_number}\")\n",
    "                \n",
    "\n",
    "        # Add a legend\n",
    "        with dot.subgraph(name='legend') as legend:\n",
    "            legend.attr(label='Legend', color='black', style='dashed')\n",
    "            legend.node('a', 'Alpha Decay', color=cmap['a'])\n",
    "            legend.node('b', 'Beta Decay', color=cmap['b'])\n",
    "\n",
    "        # Save diagram\n",
    "        dot.render(f\"../{dc[0]}_decay_chain\", cleanup=True)\n",
    "\n",
    "        # Show diagram\n",
    "        dot.view()  # This will open the generated PNG file\n",
    "\n",
    "    def half_time(self):\n",
    "        # TODO: rewrite this for new database\n",
    "        \"\"\"\n",
    "        Compute the total decay time for a given decay chain.\n",
    "\n",
    "        This function calculates the total decay time of a decay chain\n",
    "        by summing the half-lives of all the nuclides involved in the chain.\n",
    "\n",
    "        :return: Total decay time for the chain.\n",
    "        \"\"\"\n",
    "        dc = self.decay_chain\n",
    "        total_decay_time = 0\n",
    "\n",
    "        for item in dc:\n",
    "            # TODO: substitute this for the read class functions\n",
    "            if isinstance(item, tuple) and len(item) == 2:\n",
    "                nuc = ''\n",
    "                if isinstance(item[1], str):\n",
    "                    break\n",
    "                elif isinstance(item[0], str):\n",
    "                    decay_mode, (mass_number, atomic_number) = item\n",
    "                    atomic_symbol = self.atomicnumber_2_atomicsymbol(atomic_number)\n",
    "                    nuc = f'{atomic_symbol.lower()}{mass_number}'\n",
    "                else:\n",
    "                    mass_number, atomic_number = item\n",
    "                    atomic_symbol = self.atomicnumber_2_atomicsymbol(atomic_number)\n",
    "                    nuc = f'{atomic_symbol.lower()}{mass_number}'\n",
    "                try:\n",
    "                    total_decay_time += half_times[nuc]\n",
    "                except KeyError as e:\n",
    "                    print(f\"Decay constant not found for {nuc}: {e}\")\n",
    "\n",
    "        return total_decay_time\n",
    "\n",
    "    def simulate_decay(self, initial_amount, time_period=None):\n",
    "        \"\"\"\n",
    "        Calculate the percentages of each transited element left in the sample after decay.\n",
    "\n",
    "        :param initial_amount: The initial amount of the starting nuclide.\n",
    "        :param time_period: The total time over which to simulate decay.\n",
    "                            If not provided, it defaults to the sum of half-times of the decay chain.\n",
    "        :return: A dictionary with percentages of each element remaining.\n",
    "        \"\"\"\n",
    "        if time_period is None:\n",
    "            try:\n",
    "                time_period = self.half_time()  # Use computed decay time if not provided\n",
    "            except Exception as e:\n",
    "                raise ValueError(\"Provide a time_period or run the compute_decay_time function first.\")\n",
    "\n",
    "        remaining_amounts = {}\n",
    "\n",
    "        for item in self.decay_chain:\n",
    "            if isinstance(item, tuple) and len(item) == 2:\n",
    "                nuc = ''\n",
    "                if isinstance(item[1], str):\n",
    "                    break\n",
    "                elif isinstance(item[0], str):\n",
    "                    decay_mode, (mass_number, atomic_number) = item\n",
    "                    atomic_symbol = self.atomicnumber_2_atomicsymbol(atomic_number)\n",
    "                    nuc = f'{atomic_symbol.lower()}{mass_number}'\n",
    "                else:\n",
    "                    mass_number, atomic_number = item\n",
    "                    atomic_symbol = self.atomicnumber_2_atomicsymbol(atomic_number)\n",
    "                    nuc = f'{atomic_symbol.lower()}{mass_number}'\n",
    "\n",
    "                try:\n",
    "                    decay_constant = math.log(2) / half_times[nuc]\n",
    "\n",
    "                    # Calculate remaining amount using exponential decay formula\n",
    "                    remaining_amount = initial_amount * math.exp(-decay_constant * time_period)\n",
    "\n",
    "                    # Store result as a percentage of the initial amount\n",
    "                    remaining_percent = (remaining_amount / initial_amount) * 100\n",
    "                    remaining_amounts[nuc] = remaining_percent\n",
    "\n",
    "                    # Update initial_amount for subsequent nuclides in chain\n",
    "                    initial_amount = remaining_amount  # Update for next nuclide's calculation\n",
    "\n",
    "                except KeyError as e:\n",
    "                    print(f\"Decay constant not found for {nuc}: {e}\")\n",
    "                except Exception as e:\n",
    "                    print(f\"Error simulating decay for {nuc}: {e}\")\n",
    "\n",
    "        return remaining_amounts\n",
    "\n",
    "    def plot_decay_results(self, remaining_amounts):\n",
    "        \"\"\"\n",
    "        Plot a pie chart showing the percentages of each transited element remaining after decay.\n",
    "\n",
    "        :param remaining_amounts: the output of the simulate_decay function\n",
    "        \"\"\"\n",
    "        nuclide_names = remaining_amounts.keys()\n",
    "        percentages = remaining_amounts.values()\n",
    "\n",
    "        plt.figure(figsize=(10, 7))\n",
    "        plt.pie(percentages, labels=nuclide_names)\n",
    "\n",
    "        plt.show()\n",
    "        plt.savefig(\"../remaining_amounts_distribution.png\", dpi=600)\n",
    "\n",
    "\n",
    "\n",
    "# Example usage:\n",
    "# Assuming you have loaded your nuclide data into a variable called `nuclide_data`\n",
    "# decay_chain = DecayChain(nuclide_data)\n",
    "# decay_chain.find_decay_chain('Starting_Nuclide_Symbol')\n",
    "# decay_chain.simulate_decay(initial_amount=1000, time_period=5000)\n",
    "# decay_chain.plot_decay_results()\n"
   ]
  },
  {
   "cell_type": "code",
   "execution_count": 83,
   "id": "28125e5c-d3e9-4af8-bcd8-c109ba2d78ac",
   "metadata": {},
   "outputs": [],
   "source": [
    "decay_chain = DecayChain()"
   ]
  },
  {
   "cell_type": "code",
   "execution_count": 103,
   "id": "30ccf3d5-0c95-430c-854d-7cacfba96cd0",
   "metadata": {},
   "outputs": [
    {
     "data": {
      "text/plain": [
       "('54', 'Xe', '142', '141.9297111', '', '131.2936', 'g,m,a')"
      ]
     },
     "execution_count": 103,
     "metadata": {},
     "output_type": "execute_result"
    }
   ],
   "source": [
    "decay_chain.get_nuclide_data((142, 54))"
   ]
  },
  {
   "cell_type": "code",
   "execution_count": 104,
   "id": "15918141-218e-4654-8a0c-2d1985a6d1d7",
   "metadata": {},
   "outputs": [
    {
     "name": "stdout",
     "output_type": "stream",
     "text": [
      "g,m,a\n",
      "g,h\n"
     ]
    },
    {
     "data": {
      "text/plain": [
       "[(142, 54), ('a', (138, 52)), ('g', 'g')]"
      ]
     },
     "execution_count": 104,
     "metadata": {},
     "output_type": "execute_result"
    }
   ],
   "source": [
    "decay_chain.find_decay_chain((142, 54))"
   ]
  },
  {
   "cell_type": "code",
   "execution_count": 105,
   "id": "a2bd982a-f339-4cf8-a489-f9b4a86b4382",
   "metadata": {
    "scrolled": true
   },
   "outputs": [
    {
     "name": "stdout",
     "output_type": "stream",
     "text": [
      "Initial: (142, 54)\n",
      "Intermediate: ('a', (138, 52))\n"
     ]
    },
    {
     "ename": "TypeError",
     "evalue": "cannot unpack non-iterable int object",
     "output_type": "error",
     "traceback": [
      "\u001b[0;31m---------------------------------------------------------------------------\u001b[0m",
      "\u001b[0;31mTypeError\u001b[0m                                 Traceback (most recent call last)",
      "Cell \u001b[0;32mIn[105], line 1\u001b[0m\n\u001b[0;32m----> 1\u001b[0m \u001b[43mdecay_chain\u001b[49m\u001b[38;5;241;43m.\u001b[39;49m\u001b[43mchain_chart\u001b[49m\u001b[43m(\u001b[49m\u001b[43m)\u001b[49m\n",
      "Cell \u001b[0;32mIn[82], line 128\u001b[0m, in \u001b[0;36mDecayChain.chain_chart\u001b[0;34m(self)\u001b[0m\n\u001b[1;32m    125\u001b[0m node_id \u001b[38;5;241m=\u001b[39m \u001b[38;5;124mf\u001b[39m\u001b[38;5;124m'\u001b[39m\u001b[38;5;132;01m{\u001b[39;00mmass_number\u001b[38;5;132;01m}\u001b[39;00m\u001b[38;5;124m_\u001b[39m\u001b[38;5;132;01m{\u001b[39;00matomic_number\u001b[38;5;132;01m}\u001b[39;00m\u001b[38;5;124m'\u001b[39m\n\u001b[1;32m    126\u001b[0m dot\u001b[38;5;241m.\u001b[39mnode(node_id, \u001b[38;5;124mf\u001b[39m\u001b[38;5;124m\"\u001b[39m\u001b[38;5;132;01m{\u001b[39;00m\u001b[38;5;28mself\u001b[39m\u001b[38;5;241m.\u001b[39matomicnumber_2_atomicsymbol(atomic_number)\u001b[38;5;132;01m}\u001b[39;00m\u001b[38;5;124m-\u001b[39m\u001b[38;5;132;01m{\u001b[39;00mmass_number\u001b[38;5;132;01m}\u001b[39;00m\u001b[38;5;124m\"\u001b[39m, color\u001b[38;5;241m=\u001b[39mcmap[radiation])\n\u001b[0;32m--> 128\u001b[0m prev_mass_number, prev_atomic_number \u001b[38;5;241m=\u001b[39m dc[i \u001b[38;5;241m-\u001b[39m \u001b[38;5;241m1\u001b[39m][\u001b[38;5;241m1\u001b[39m]\n\u001b[1;32m    129\u001b[0m prev_id \u001b[38;5;241m=\u001b[39m \u001b[38;5;124mf\u001b[39m\u001b[38;5;124m'\u001b[39m\u001b[38;5;132;01m{\u001b[39;00mprev_mass_number\u001b[38;5;132;01m}\u001b[39;00m\u001b[38;5;124m_\u001b[39m\u001b[38;5;132;01m{\u001b[39;00mprev_atomic_number\u001b[38;5;132;01m}\u001b[39;00m\u001b[38;5;124m'\u001b[39m\n\u001b[1;32m    130\u001b[0m dot\u001b[38;5;241m.\u001b[39medge(prev_id, node_id, label\u001b[38;5;241m=\u001b[39mradiation)\n",
      "\u001b[0;31mTypeError\u001b[0m: cannot unpack non-iterable int object"
     ]
    }
   ],
   "source": [
    "decay_chain.chain_chart()"
   ]
  },
  {
   "cell_type": "code",
   "execution_count": 106,
   "id": "e4384037-fb6e-490e-b6ce-5b8228d1d756",
   "metadata": {},
   "outputs": [
    {
     "data": {
      "text/plain": [
       "2.63"
      ]
     },
     "execution_count": 106,
     "metadata": {},
     "output_type": "execute_result"
    }
   ],
   "source": [
    "decay_chain.half_time()"
   ]
  },
  {
   "cell_type": "code",
   "execution_count": 107,
   "id": "2d9d932d-c79a-4e78-bd1a-274270bcbed8",
   "metadata": {},
   "outputs": [
    {
     "data": {
      "text/plain": [
       "{'xe142': 22.716124325451776, 'te138': 27.195287287278674}"
      ]
     },
     "execution_count": 107,
     "metadata": {},
     "output_type": "execute_result"
    }
   ],
   "source": [
    "decay_chain.simulate_decay(100)"
   ]
  },
  {
   "cell_type": "code",
   "execution_count": 108,
   "id": "b247039a-d99b-4ab8-a13c-1750002113fe",
   "metadata": {},
   "outputs": [
    {
     "data": {
      "image/png": "[encoded data removed]",
      "text/plain": [
       "<Figure size 1000x700 with 1 Axes>"
      ]
     },
     "metadata": {},
     "output_type": "display_data"
    },
    {
     "data": {
      "text/plain": [
       "<Figure size 640x480 with 0 Axes>"
      ]
     },
     "metadata": {},
     "output_type": "display_data"
    }
   ],
   "source": [
    "decay_chain.plot_decay_results(decay_chain.simulate_decay(100))"
   ]
  },
  {
   "cell_type": "code",
   "execution_count": null,
   "id": "4eea5a6f-6379-4671-86c4-84096e984084",
   "metadata": {},
   "outputs": [],
   "source": []
  },
  {
   "cell_type": "code",
   "execution_count": null,
   "id": "bd2579f2-58c6-4afe-ae27-0d1d1428eb81",
   "metadata": {},
   "outputs": [],
   "source": []
  }
 ],
 "metadata": {
  "kernelspec": {
   "display_name": "Python 3 (ipykernel)",
   "language": "python",
   "name": "python3"
  },
  "language_info": {
   "codemirror_mode": {
    "name": "ipython",
    "version": 3
   },
   "file_extension": ".py",
   "mimetype": "text/x-python",
   "name": "python",
   "nbconvert_exporter": "python",
   "pygments_lexer": "ipython3",
   "version": "3.12.9"
  }
 },
 "nbformat": 4,
 "nbformat_minor": 5
}
